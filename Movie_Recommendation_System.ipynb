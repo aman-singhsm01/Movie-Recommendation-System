{
  "nbformat": 4,
  "nbformat_minor": 0,
  "metadata": {
    "colab": {
      "provenance": [],
      "mount_file_id": "1JxSC80HLmSIaR0z6vqqyZKkG44UY7q12",
      "authorship_tag": "ABX9TyOvmGhcqoErMwND549hUZ7w",
      "include_colab_link": true
    },
    "kernelspec": {
      "name": "python3",
      "display_name": "Python 3"
    },
    "language_info": {
      "name": "python"
    }
  },
  "cells": [
    {
      "cell_type": "markdown",
      "metadata": {
        "id": "view-in-github",
        "colab_type": "text"
      },
      "source": [
        "<a href=\"https://colab.research.google.com/github/aman-singhsm01/Movie-Recommendation-System/blob/main/Movie_Recommendation_System.ipynb\" target=\"_parent\"><img src=\"https://colab.research.google.com/assets/colab-badge.svg\" alt=\"Open In Colab\"/></a>"
      ]
    },
    {
      "cell_type": "markdown",
      "source": [
        "#Movie_Recommendation_System"
      ],
      "metadata": {
        "id": "a0LklMcsFfCW"
      }
    },
    {
      "cell_type": "code",
      "source": [
        "from google.colab import drive\n",
        "drive.mount('/content/drive')"
      ],
      "metadata": {
        "colab": {
          "base_uri": "https://localhost:8080/"
        },
        "id": "ltD5HpU8G9Kx",
        "outputId": "d6e38634-7b48-4a6f-cc9f-d3d168a2daec"
      },
      "execution_count": 3,
      "outputs": [
        {
          "output_type": "stream",
          "name": "stdout",
          "text": [
            "Drive already mounted at /content/drive; to attempt to forcibly remount, call drive.mount(\"/content/drive\", force_remount=True).\n"
          ]
        }
      ]
    },
    {
      "cell_type": "code",
      "execution_count": 4,
      "metadata": {
        "id": "kDDbEH3eFB-4"
      },
      "outputs": [],
      "source": [
        "\n",
        "import pandas as pd\n",
        "import difflib\n",
        "from sklearn.feature_extraction.text import TfidfVectorizer\n",
        "from sklearn.metrics.pairwise import cosine_similarity"
      ]
    },
    {
      "cell_type": "markdown",
      "source": [
        "Data collection and preprocessing"
      ],
      "metadata": {
        "id": "dl28mHvIFeXs"
      }
    },
    {
      "cell_type": "code",
      "source": [
        "movies_data=pd.read_csv('/content/drive/MyDrive/dataset/movies.csv')"
      ],
      "metadata": {
        "id": "IschO4ezF8pd"
      },
      "execution_count": 5,
      "outputs": []
    },
    {
      "cell_type": "code",
      "source": [
        "movies_data.head()"
      ],
      "metadata": {
        "id": "kEKFQ8jeGClj"
      },
      "execution_count": null,
      "outputs": []
    },
    {
      "cell_type": "code",
      "source": [
        "# no of rows and col\n",
        "movies_data.shape"
      ],
      "metadata": {
        "colab": {
          "base_uri": "https://localhost:8080/"
        },
        "id": "Kup6TqNPGEwf",
        "outputId": "57266cf7-1e9a-4439-db8f-ac8ff811dec3"
      },
      "execution_count": 7,
      "outputs": [
        {
          "output_type": "execute_result",
          "data": {
            "text/plain": [
              "(4803, 24)"
            ]
          },
          "metadata": {},
          "execution_count": 7
        }
      ]
    },
    {
      "cell_type": "markdown",
      "source": [
        "Select relevant features"
      ],
      "metadata": {
        "id": "zkYcrsAvGyeD"
      }
    },
    {
      "cell_type": "code",
      "source": [
        "#Select relevant features\n",
        "selected_features=['genres','keywords','tagline','cast','director']\n",
        "print(selected_features)"
      ],
      "metadata": {
        "colab": {
          "base_uri": "https://localhost:8080/"
        },
        "id": "YyY2pC18GwQV",
        "outputId": "a050b6fa-8c52-4f9c-9222-5296c8d86e3c"
      },
      "execution_count": 8,
      "outputs": [
        {
          "output_type": "stream",
          "name": "stdout",
          "text": [
            "['genres', 'keywords', 'tagline', 'cast', 'director']\n"
          ]
        }
      ]
    },
    {
      "cell_type": "code",
      "source": [
        "# replacing the null values with null string\n",
        "\n",
        "for feature in selected_features:\n",
        "  movies_data[feature]=movies_data[feature].fillna('')"
      ],
      "metadata": {
        "id": "dDWoOfgkHJR9"
      },
      "execution_count": 9,
      "outputs": []
    },
    {
      "cell_type": "code",
      "source": [
        "#combining all the 5 selected features\n",
        "combined_features=movies_data['genres']+' '+movies_data['keywords']+' '+movies_data['tagline']+' '+movies_data['cast']+' '+movies_data['director']"
      ],
      "metadata": {
        "id": "9W1yX9v9Hl0c"
      },
      "execution_count": 10,
      "outputs": []
    },
    {
      "cell_type": "code",
      "source": [
        "print(combined_features)"
      ],
      "metadata": {
        "id": "UXvsJUy3Hn2M"
      },
      "execution_count": null,
      "outputs": []
    },
    {
      "cell_type": "code",
      "source": [
        "#converting the text data into feature vectors\n",
        "vectorizer=TfidfVectorizer()\n"
      ],
      "metadata": {
        "id": "JZovDLQZIQbU"
      },
      "execution_count": 12,
      "outputs": []
    },
    {
      "cell_type": "code",
      "source": [
        "feature_vectors=vectorizer.fit_transform(combined_features)"
      ],
      "metadata": {
        "id": "q72J56GwuIur"
      },
      "execution_count": 13,
      "outputs": []
    },
    {
      "cell_type": "code",
      "source": [
        "print(feature_vectors)"
      ],
      "metadata": {
        "id": "4bm8PTcPuZSx"
      },
      "execution_count": null,
      "outputs": []
    },
    {
      "cell_type": "markdown",
      "source": [
        "Cosine Similarity"
      ],
      "metadata": {
        "id": "ZJh3CBGrunVp"
      }
    },
    {
      "cell_type": "code",
      "source": [
        "#getting similarity score using cosine similarity\n",
        "similarity=cosine_similarity(feature_vectors)"
      ],
      "metadata": {
        "id": "sWSZx5-BuhLj"
      },
      "execution_count": 15,
      "outputs": []
    },
    {
      "cell_type": "code",
      "source": [
        "print(similarity)"
      ],
      "metadata": {
        "id": "DoXLo3LAu2iB"
      },
      "execution_count": null,
      "outputs": []
    },
    {
      "cell_type": "code",
      "source": [
        "similarity.shape"
      ],
      "metadata": {
        "colab": {
          "base_uri": "https://localhost:8080/"
        },
        "id": "hCmcqbKJu4SE",
        "outputId": "c010090f-100b-4b11-c5d1-2c4f3f6e9f41"
      },
      "execution_count": 17,
      "outputs": [
        {
          "output_type": "execute_result",
          "data": {
            "text/plain": [
              "(4803, 4803)"
            ]
          },
          "metadata": {},
          "execution_count": 17
        }
      ]
    },
    {
      "cell_type": "code",
      "source": [
        "#Getting movie name from the user\n",
        "movie_name=input(\"enter your favourite movie name:\")"
      ],
      "metadata": {
        "id": "lLeBAKsTu5lV",
        "colab": {
          "base_uri": "https://localhost:8080/"
        },
        "outputId": "d6b6fcbe-34df-42f8-9920-9ba678a1713c"
      },
      "execution_count": 18,
      "outputs": [
        {
          "name": "stdout",
          "output_type": "stream",
          "text": [
            "enter your favourite movie name:iron man\n"
          ]
        }
      ]
    },
    {
      "cell_type": "code",
      "source": [
        "#creating a list of all the movie names given in the dataset\n",
        "list_of_all_titles=movies_data['title'].tolist()\n",
        "print(list_of_all_titles)"
      ],
      "metadata": {
        "id": "EUblJdR7vLUI"
      },
      "execution_count": null,
      "outputs": []
    },
    {
      "cell_type": "code",
      "source": [
        "#finding the close match for the movie name given by the user\n",
        "find_close_match =difflib.get_close_matches(movie_name,list_of_all_titles)\n",
        "print(find_close_match)"
      ],
      "metadata": {
        "id": "ej9rndSqvl3z",
        "colab": {
          "base_uri": "https://localhost:8080/"
        },
        "outputId": "fb73afe2-1782-4852-e050-18d53a58e2fc"
      },
      "execution_count": 20,
      "outputs": [
        {
          "output_type": "stream",
          "name": "stdout",
          "text": [
            "['Iron Man', 'Iron Man 3', 'Iron Man 2']\n"
          ]
        }
      ]
    },
    {
      "cell_type": "code",
      "source": [
        "close_match=find_close_match[0]"
      ],
      "metadata": {
        "id": "IkYSFETzv62s"
      },
      "execution_count": 21,
      "outputs": []
    },
    {
      "cell_type": "code",
      "source": [
        "print(close_match)"
      ],
      "metadata": {
        "id": "8aD2F_4dv_4j",
        "colab": {
          "base_uri": "https://localhost:8080/"
        },
        "outputId": "38444a3f-70f6-4591-ca4e-37994d60b4e6"
      },
      "execution_count": 22,
      "outputs": [
        {
          "output_type": "stream",
          "name": "stdout",
          "text": [
            "Iron Man\n"
          ]
        }
      ]
    },
    {
      "cell_type": "code",
      "source": [
        "#find the index of the movie with title\n",
        "index_of_the_movie=movies_data[movies_data.title==close_match]['index'].values[0]\n",
        "print(index_of_the_movie)"
      ],
      "metadata": {
        "id": "xQAfp32AwBdf",
        "colab": {
          "base_uri": "https://localhost:8080/"
        },
        "outputId": "ef8671fc-0d6a-4ded-aacc-ce705efdddbc"
      },
      "execution_count": 23,
      "outputs": [
        {
          "output_type": "stream",
          "name": "stdout",
          "text": [
            "68\n"
          ]
        }
      ]
    },
    {
      "cell_type": "code",
      "source": [
        "#getting a list of similar movies\n",
        "similarity_score=list(enumerate(similarity[index_of_the_movie]))\n",
        "print(similarity_score)"
      ],
      "metadata": {
        "id": "-TxEO9ONwEjr"
      },
      "execution_count": null,
      "outputs": []
    },
    {
      "cell_type": "code",
      "source": [
        "len(similarity_score)"
      ],
      "metadata": {
        "id": "i1T5LZuVxQ63",
        "colab": {
          "base_uri": "https://localhost:8080/"
        },
        "outputId": "6611f1c2-e7cd-4b89-fec5-f6e2dacb6ec0"
      },
      "execution_count": 25,
      "outputs": [
        {
          "output_type": "execute_result",
          "data": {
            "text/plain": [
              "4803"
            ]
          },
          "metadata": {},
          "execution_count": 25
        }
      ]
    },
    {
      "cell_type": "code",
      "source": [
        "#sorting the movies based on the similarity score\n",
        "sorted_similar_movies=sorted(similarity_score,key=lambda x:x[1],reverse=True)"
      ],
      "metadata": {
        "id": "8QTrayKqxhLL"
      },
      "execution_count": 26,
      "outputs": []
    },
    {
      "cell_type": "code",
      "source": [
        "#print the name of similar movies based on the index\n",
        "print('Movies suggested for you: \\n')\n",
        "i=1\n",
        "for movie in sorted_similar_movies:\n",
        "  index=movie[0]\n",
        "  title_from_index=movies_data[movies_data.index==index]['title'].values[0]\n",
        "  if(i<30):\n",
        "    print(i,'.',title_from_index)\n",
        "    i+=1"
      ],
      "metadata": {
        "id": "mi9B59NMxy6c",
        "colab": {
          "base_uri": "https://localhost:8080/"
        },
        "outputId": "ee9a9ce8-5c04-413a-8d3c-8f1ae799282b"
      },
      "execution_count": 27,
      "outputs": [
        {
          "output_type": "stream",
          "name": "stdout",
          "text": [
            "Movies suggested for you: \n",
            "\n",
            "1 . Iron Man\n",
            "2 . Iron Man 2\n",
            "3 . Iron Man 3\n",
            "4 . Avengers: Age of Ultron\n",
            "5 . The Avengers\n",
            "6 . Captain America: Civil War\n",
            "7 . Captain America: The Winter Soldier\n",
            "8 . Ant-Man\n",
            "9 . X-Men\n",
            "10 . Made\n",
            "11 . X-Men: Apocalypse\n",
            "12 . X2\n",
            "13 . The Incredible Hulk\n",
            "14 . The Helix... Loaded\n",
            "15 . X-Men: First Class\n",
            "16 . X-Men: Days of Future Past\n",
            "17 . Captain America: The First Avenger\n",
            "18 . Kick-Ass 2\n",
            "19 . Guardians of the Galaxy\n",
            "20 . Deadpool\n",
            "21 . Thor: The Dark World\n",
            "22 . G-Force\n",
            "23 . X-Men: The Last Stand\n",
            "24 . Duets\n",
            "25 . Mortdecai\n",
            "26 . The Last Airbender\n",
            "27 . Southland Tales\n",
            "28 . Zathura: A Space Adventure\n",
            "29 . Sky Captain and the World of Tomorrow\n"
          ]
        }
      ]
    },
    {
      "cell_type": "markdown",
      "source": [
        "Movie Recommendation system"
      ],
      "metadata": {
        "id": "CD4rqiHhz9rA"
      }
    },
    {
      "cell_type": "code",
      "source": [
        "#Getting movie name from the user\n",
        "movie_name=input(\"enter your favourite movie name:\")\n",
        "list_of_all_titles=movies_data['title'].tolist()\n",
        "find_close_match =difflib.get_close_matches(movie_name,list_of_all_titles)\n",
        "close_match=find_close_match[0]\n",
        "index_of_the_movie=movies_data[movies_data.title==close_match]['index'].values[0]\n",
        "similarity_score=list(enumerate(similarity[index_of_the_movie]))\n",
        "sorted_similar_movies=sorted(similarity_score,key=lambda x:x[1],reverse=True)\n",
        "#print the name of similar movies based on the index\n",
        "print('Movies suggested for you: \\n')\n",
        "i=1\n",
        "for movie in sorted_similar_movies:\n",
        "  index=movie[0]\n",
        "  title_from_index=movies_data[movies_data.index==index]['title'].values[0]\n",
        "  if(i<30):\n",
        "    print(i,'.',title_from_index)\n",
        "    i+=1"
      ],
      "metadata": {
        "id": "yBVgB8870DCo",
        "colab": {
          "base_uri": "https://localhost:8080/"
        },
        "outputId": "79aa92cf-1a77-4474-b6c4-912f42097cf5"
      },
      "execution_count": 28,
      "outputs": [
        {
          "output_type": "stream",
          "name": "stdout",
          "text": [
            "enter your favourite movie name:iron man\n",
            "Movies suggested for you: \n",
            "\n",
            "1 . Iron Man\n",
            "2 . Iron Man 2\n",
            "3 . Iron Man 3\n",
            "4 . Avengers: Age of Ultron\n",
            "5 . The Avengers\n",
            "6 . Captain America: Civil War\n",
            "7 . Captain America: The Winter Soldier\n",
            "8 . Ant-Man\n",
            "9 . X-Men\n",
            "10 . Made\n",
            "11 . X-Men: Apocalypse\n",
            "12 . X2\n",
            "13 . The Incredible Hulk\n",
            "14 . The Helix... Loaded\n",
            "15 . X-Men: First Class\n",
            "16 . X-Men: Days of Future Past\n",
            "17 . Captain America: The First Avenger\n",
            "18 . Kick-Ass 2\n",
            "19 . Guardians of the Galaxy\n",
            "20 . Deadpool\n",
            "21 . Thor: The Dark World\n",
            "22 . G-Force\n",
            "23 . X-Men: The Last Stand\n",
            "24 . Duets\n",
            "25 . Mortdecai\n",
            "26 . The Last Airbender\n",
            "27 . Southland Tales\n",
            "28 . Zathura: A Space Adventure\n",
            "29 . Sky Captain and the World of Tomorrow\n"
          ]
        }
      ]
    },
    {
      "cell_type": "code",
      "source": [],
      "metadata": {
        "id": "RB3nLFGrzdjo"
      },
      "execution_count": 28,
      "outputs": []
    }
  ]
}